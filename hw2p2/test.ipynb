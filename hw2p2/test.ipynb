{
 "cells": [
  {
   "cell_type": "code",
   "execution_count": 1,
   "metadata": {},
   "outputs": [
    {
     "name": "stderr",
     "output_type": "stream",
     "text": [
      "/home/xly/mambaforge/envs/convnext/lib/python3.8/site-packages/tqdm/auto.py:21: TqdmWarning: IProgress not found. Please update jupyter and ipywidgets. See https://ipywidgets.readthedocs.io/en/stable/user_install.html\n",
      "  from .autonotebook import tqdm as notebook_tqdm\n"
     ]
    }
   ],
   "source": [
    "import torch\n",
    "import torch.nn.functional as F\n",
    "\n",
    "def smooth_labels(labels, classes, smoothing=0.1):\n",
    "    \"\"\"\n",
    "    Apply label smoothing to one-hot encoded labels.\n",
    "    \n",
    "    labels: Tensor of shape (batch_size,)\n",
    "    classes: Total number of classes\n",
    "    smoothing: Smoothing factor (0 means no smoothing)\n",
    "    \"\"\"\n",
    "    confidence = 1.0 - smoothing\n",
    "    smooth_value = smoothing / (classes - 1)\n",
    "\n",
    "    one_hot = torch.full((labels.size(0), classes), smooth_value).to(labels.device)\n",
    "    one_hot.scatter_(1, labels.unsqueeze(1), confidence)\n",
    "    \n",
    "    return one_hot\n",
    "\n",
    "class LabelSmoothingCrossEntropy(torch.nn.Module):\n",
    "    def __init__(self, label_smoothing=0.1):\n",
    "        super(LabelSmoothingCrossEntropy, self).__init__()\n",
    "        self.smoothing = label_smoothing\n",
    "\n",
    "    def forward(self, preds, target):\n",
    "        classes = preds.size(1)  # Number of classes\n",
    "        smoothed_targets = smooth_labels(target, classes, self.smoothing)\n",
    "        log_probs = F.log_softmax(preds, dim=-1)\n",
    "        return torch.mean(torch.sum(-smoothed_targets * log_probs, dim=-1))"
   ]
  },
  {
   "cell_type": "code",
   "execution_count": 2,
   "metadata": {},
   "outputs": [],
   "source": [
    "crit1 = LabelSmoothingCrossEntropy(label_smoothing=0)\n",
    "crit2 = torch.nn.CrossEntropyLoss()\n",
    "\n",
    "x, labels = torch.randn(4, 10), torch.randint(0, 10, (4,))\n",
    "assert torch.allclose(crit1(x, labels), crit2(x, labels))"
   ]
  }
 ],
 "metadata": {
  "kernelspec": {
   "display_name": "convnext",
   "language": "python",
   "name": "python3"
  },
  "language_info": {
   "codemirror_mode": {
    "name": "ipython",
    "version": 3
   },
   "file_extension": ".py",
   "mimetype": "text/x-python",
   "name": "python",
   "nbconvert_exporter": "python",
   "pygments_lexer": "ipython3",
   "version": "3.8.20"
  }
 },
 "nbformat": 4,
 "nbformat_minor": 2
}
