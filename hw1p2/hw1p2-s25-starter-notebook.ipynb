{
 "cells": [
  {
   "cell_type": "markdown",
   "metadata": {
    "id": "F9ERgBpbcMmB"
   },
   "source": [
    "# HW1: Frame-Level Speech Recognition"
   ]
  },
  {
   "cell_type": "markdown",
   "metadata": {
    "id": "CLkH6GMGcWcE"
   },
   "source": [
    "In this homework, you will be working with MFCC data consisting of 28 features at each time step/frame. Your model should be able to recognize the phoneme occured in that frame."
   ]
  },
  {
   "cell_type": "markdown",
   "metadata": {
    "id": "P2vp3N7qr_5V"
   },
   "source": [
    "# Dataset Description\n",
    "\n",
    "Let's start by understanding the dataset for this homework.\n",
    "\n",
    "Our data consists of 3 folders (train-clean-100, dev-clean and test-clean). The training and validation datasets (train-clean-100 and dev-clean) each contain 2 subfolders (mfcc and transcript). The 'mfcc' subfolder contains mel spectrograms (explained below and in writeup), while the 'transcript' subfolder contains their corresponding transcripts. However, the test dataset (test-clean) contains only the 'mfcc' subfolder without the corresponding transcripts, which will later be predicted by your model.\n",
    "\n",
    "\n",
    "## 1. Audio Representation.\n",
    "The 'mfcc' subfolders contain many `*.npy` files of mel spectrograms. .npy files are used to store numpy arrays.\n",
    "\n",
    "Each .npy file represents a short speech recording. For example, one recording might be someone saying, \"This is the age of AI.\" This recording is converted into a mel spectrogram, which is used to represent all forms of audio signals in a computer. Such representation is important in signal and speech processing tasks, especially in machine learning.\n",
    "\n",
    "Compared to raw audio, mel spectrograms are better for speech processing because they capture both the timing and the frequencies of the sound. At each moment in time, they show which frequencies are present in the sound. This makes it easier for computers to understand and process speech.\n",
    "\n",
    "When converting raw audio to spectrograms, you do not process the whole audio at once. Instead, you process small frames at a time as you stride over the entire audio length. This means that if you have an audio file of 100 seconds, you may decide to process 10 seconds at a time, striding by one second. In this case, the frame size is 10 seconds. The frame size and the number of timesteps (seconds, milliseconds, etc.) depend on individual choice.\n",
    "\n",
    "When processing each frame, you extract a number of features that represent that frame's audio. For instance, in the audio recording of \"This is the age of AI,\" the frame corresponding to \"AI\" will have features that represent how \"AI\" is pronounced, the vocal tract, and the effect of the environment in which it was recorded. For clarity, when we say features, you should think of columns. One feature/column may have information about the gender of the person who made the speech. Another may have information about the age of the person. Another may have information about the environment where the speech was recorded. Basically, the main properties that make up a speech are encoded in those features, which combine in some way to make the audio.\n",
    "\n",
    "Since we want to recognize the word as it was pronounced despite the environment and other variabilities, we usually normalize to eliminate or minimize such effects.\n",
    "\n",
    "Our spectrograms contain 28 features. Essentially, the number of features may be different. They may depend on how the raw audio data was converted into mel spectrograms.\n",
    "\n",
    "## 2. Transcripts\n",
    "Remember where we mentioned frames? Well, in our dataset, audio frames have corresponding target transcripts. For instance the abbreviation \"AI\", in our example above, if present in the recordings, will have transcripts: /eɪ aɪ/. This means that you will have two frames one for  /eɪ/ and another for /aɪ/.\n",
    "\n",
    "This way of representing pronounciation in text form is called ***phonetic transcription***, \"the conversion of spoken words the way they are pronounced instead of how they are written\"[[link]](https://www.google.com/url?sa=t&source=web&rct=j&opi=89978449&url=https://krisp.ai/blog/phonetic-transcription/%23:~:text%3Dphonetic%2520transcriptions%2520done.-,What%2520are%2520Phonetic%2520Transcriptions%253F,verbatim%2520to%2520intelligent%2520verbatim%2520transcriptions.&ved=2ahUKEwiV6LO6hrSHAxUKSvEDHcvwAAsQFnoECB0QAw&usg=AOvVaw0VqoWceOzdVwe-AvdyyWqJ). In this case letters 'A' and 'I' are pronounce /eɪ/ and /aɪ/, respectively. Both letters in different words may be pronounced differently.\n",
    "\n",
    "The produced representation of the speech is referred to as phonemes. Various .npy files that contain recordings of the sentence **\"This is the age of AI.\"** would map to **\"/ðɪs ɪz ðə eɪdʒ əv eɪ aɪ/.\"** The phonemes representation for **Chelsea sucks** would be **/ˈtʃɛl.si sʌks/**\n",
    "\n",
    "Going inside the .npy files. Each .npy file contains vectors which have 28 features/dimensions/columns. The number of vectors in the file corresponds to the number of frames in the recording. And each single frame has a corresponding phoneme in the transcript.\n",
    "\n",
    "For instance the .npy file for \"This is the age of AI\" --> \"/ðɪs ɪz ðə eɪdʒ əv eɪ aɪ/\" might have 13 frames (13 vectors):\n",
    "\n",
    "- /ðɪs/ has 3 phonemes: /ð/, /ɪ/, /s/  \n",
    "- /ɪz/ has 2 phonemes: /ɪ/, /z/\n",
    "- /ðə/ has 2 phonemes: /ð/, /ə/\n",
    "- /eɪdʒ/ has 2 phonemes: /eɪ/, /dʒ/\n",
    "- /əv/ has 2 phonemes: /ə/, /v/\n",
    "- /eɪ aɪ/ has 2 phonemes: /eɪ/, /aɪ/\n",
    "\n",
    "**Chelsea sucks** --> **/ˈtʃɛl.si sʌks/** might have 8 frames (8 vectors):\n",
    "\n",
    "- /ˈtʃɛl.si/ has 4 phonemes: /tʃ/, /ɛ/, /l/, /si/\n",
    "- /sʌks/ has 4 phonemes: /s/, /ʌ/, /k/, /s/\n",
    "\n",
    "Note that recordings of different sentences may have different number of frames.\n",
    "\n",
    "The model you will produce must take a vector of a particular frame and predict the frame's transcript as accurately as possible.\n",
    "\n",
    "Therefore, the **__getitem__** method of your dataset class must return a 28 dimensional vector of a particular frame and its corresponding phoneme transcript.\n",
    "\n",
    "This means that, while you are doing your data preprocessing in the **__init__** method, you need stack all vectors from all recordings on top of each other. You must do this for all transcripts as well and remember to ensure the correspondance between frames and their phoneme mapping is maintained.\n",
    "\n",
    "For our dataset of two samples above, if you stack the recordings together, you get:\n",
    "\n",
    "\n",
    "| Frame | Feature 1 | Feature 2 | ... | Feature 28 | Phoneme |\n",
    "|-------|-----------|-----------|-----|------------|---------|\n",
    "| 0     | v0_1      | v0_2      | ... | v0_28      | /ð/     |\n",
    "| 1     | v1_1      | v1_2      | ... | v1_28      | /ɪ/     |\n",
    "| 2     | v2_1      | v2_2      | ... | v2_28      | /s/     |\n",
    "| 3     | v3_1      | v3_2      | ... | v3_28      | /ɪ/     |\n",
    "| 4     | v4_1      | v4_2      | ... | v4_28      | /z/     |\n",
    "| 5     | v5_1      | v5_2      | ... | v5_28      | /ð/     |\n",
    "| 6     | v6_1      | v6_2      | ... | v6_28      | /ə/     |\n",
    "| 7     | v7_1      | v7_2      | ... | v7_28      | /eɪ/    |\n",
    "| 8     | v8_1      | v8_2      | ... | v8_28      | /dʒ/    |\n",
    "| 9     | v9_1      | v9_2      | ... | v9_28      | /ə/     |\n",
    "| 10    | v10_1     | v10_2     | ... | v10_28     | /v/     |\n",
    "| 11    | v11_1     | v11_2     | ... | v11_28     | /eɪ/    |\n",
    "| 12    | v12_1     | v12_2     | ... | v12_28     | /aɪ/    |\n",
    "| 13    | v13_1     | v13_2     | ... | v13_28     | /tʃ/    |\n",
    "| 14    | v14_1     | v14_2     | ... | v14_28     | /ɛ/     |\n",
    "| 15    | v15_1     | v15_2     | ... | v15_28     | /l/     |\n",
    "| 16    | v16_1     | v16_2     | ... | v16_28     | /si/     |\n",
    "| 17    | v17_1     | v17_2     | ... | v17_28     | /s/     |\n",
    "| 18    | v18_1     | v18_2     | ... | v18_28     | /ʌ/     |\n",
    "| 19    | v19_1     | v19_2     | ... | v19_28     | /k/     |\n",
    "| 20    | v20_1     | v20_2     | ... | v20_28     | /s/     |\n",
    "\n",
    "\n",
    "So, if you pass index 5 to **__getitem__**, you will get back vector v5 (v5_1, v5_2, ..., v5_28) and transcript **/ð/**. Ideally, if you have a well trained model, it should take v5 and return **/ð/**. And the call to **__len__** would return 21 which the training loop would use to go through the whole dataset.\n",
    "\n",
    "## Context\n",
    "\n",
    "In the dataset we are using, a few millisecs were used to convert raw audio to mel spectrogram and extract the 28 features.\n",
    "Since each vector represents only a few millisecs of speech, it may not be sufficient to feed only a single vector into the network at a time. Instead, it may be useful to provide the network with some “context” of size K around each vector in terms of additional vectors from the speech input.\n",
    "\n",
    "Concretely, a context of size 3 would mean that we provide an input of size (7, 28) to the network - the size 7 can be explained as: the vector to predict the label for, 3 vectors preceding this vector, and 3 vectors following it. It is worth thinking about how you would handle providing context before one of the first K frames of an utterance or after one of the last K frames.\n",
    "\n",
    "There are several ways to implement this, but you could try the simplest one:\n",
    "- Concatenating all utterances and padding with K 0-valued vectors before and after the resulting matrix\n",
    "\n",
    "If you use a context of 3 on the above table, you get the following table:\n",
    "\n",
    "| Frame | Feature 1 | Feature 2 | ... | Feature 28 | Phoneme | Context Vectors |\n",
    "|-------|-----------|-----------|-----|------------|---------|----------------|\n",
    "| 0     | v0_1      | v0_2      | ... | v0_28      | /ð/     | [0, 0, 0, ..., 0] (Padding), [0, 0, 0, ..., 0] (Padding), [0, 0, 0, ..., 0] (Padding), v0, v1, v2, v3 |\n",
    "| 1     | v1_1      | v1_2      | ... | v1_28      | /ɪ/     | [0, 0, 0, ..., 0] (Padding), [0, 0, 0, ..., 0] (Padding), v0, v1, v2, v3, v4 |\n",
    "| 2     | v2_1      | v2_2      | ... | v2_28      | /s/     | [0, 0, 0, ..., 0] (Padding), v0, v1, v2, v3, v4, v5 |\n",
    "| 3     | v3_1      | v3_2      | ... | v3_28      | /ɪ/     | v0, v1, v2, v3, v4, v5, v6 |\n",
    "| 4     | v4_1      | v4_2      | ... | v4_28      | /z/     | v1, v2, v3, v4, v5, v6, v7 |\n",
    "| 5     | v5_1      | v5_2      | ... | v5_28      | /ð/     | v2, v3, v4, v5, v6, v7, v8 |\n",
    "| 6     | v6_1      | v6_2      | ... | v6_28      | /ə/     | v3, v4, v5, v6, v7, v8, v9 |\n",
    "| 7     | v7_1      | v7_2      | ... | v7_28      | /eɪ/    | v4, v5, v6, v7, v8, v9, v10 |\n",
    "| 8     | v8_1      | v8_2      | ... | v8_28      | /dʒ/    | v5, v6, v7, v8, v9, v10, v11 |\n",
    "| 9     | v9_1      | v9_2      | ... | v9_28      | /ə/     | v6, v7, v8, v9, v10, v11, v12 |\n",
    "| 10    | v10_1     | v10_2     | ... | v10_28     | /v/     | v7, v8, v9, v10, v11, v12, v13 |\n",
    "| 11    | v11_1     | v11_2     | ... | v11_28     | /eɪ/    | v8, v9, v10, v11, v12, v13, v14 |\n",
    "| 12    | v12_1     | v12_2     | ... | v12_28     | /aɪ/    | v9, v10, v11, v12, v13, v14, v15 |\n",
    "| 13    | v13_1     | v13_2     | ... | v13_28     | /tʃ/    | v10, v11, v12, v13, v14, v15, v16 |\n",
    "| 14    | v14_1     | v14_2     | ... | v14_28     | /ɛ/     | v11, v12, v13, v14, v15, v16, v17 |\n",
    "| 15    | v15_1     | v15_2     | ... | v15_28     | /l/     | v12, v13, v14, v15, v16, v17, v18 |\n",
    "| 16    | v16_1     | v16_2     | ... | v16_28     | /s/     | v13, v14, v15, v16, v17, v18, v19 |\n",
    "| 17    | v17_1     | v17_2     | ... | v17_28     | /i/     | v14, v15, v16, v17, v18, v19, v20 |\n",
    "| 18    | v18_1     | v18_2     | ... | v18_28     | /s/     | v15, v16, v17, v18, v19, v20, v21 |\n",
    "| 19    | v19_1     | v19_2     | ... | v19_28     | /ʌ/     | v16, v17, v18, v19, v20, v21, [0, 0, 0, ..., 0] (Padding) |\n",
    "| 20    | v20_1     | v20_2     | ... | v20_28     | /k/     | v17, v18, v19, v20, v21, [0, 0, 0, ..., 0] (Padding), [0, 0, 0, ..., 0] (Padding) |\n",
    "| 21    | v21_1     | v21_2     | ... | v21_28     | /s/     | v18, v19, v20, v21, [0, 0, 0, ..., 0] (Padding), [0, 0, 0, ..., 0] (Padding), [0, 0, 0, ..., 0] (Padding) |\n",
    "\n",
    "\n",
    "Now, if you want to predict the output of vector v5, you won't just pass vector v5 alone. You will concatenate 3 vectors before it and 3 vectors after, which makes it 7 vectors ([v2, v3, v4, v5, v6, v7, v8 ]) . This needs to be reflected in your **__getitem__** method. Meaning it should return an array of shape (7, 28), in this example.\n",
    "\n",
    "Hence your model is going to be taking a tensor (array) of shape (7, 28) in this example."
   ]
  },
  {
   "cell_type": "markdown",
   "metadata": {
    "id": "z4vZbDmJvMp1"
   },
   "source": [
    "# Libraries"
   ]
  },
  {
   "cell_type": "code",
   "execution_count": 8,
   "metadata": {},
   "outputs": [],
   "source": [
    "# !pip install --upgrade kaggle==1.6.17 --force-reinstall --no-deps "
   ]
  },
  {
   "cell_type": "code",
   "execution_count": 9,
   "metadata": {
    "execution": {
     "iopub.execute_input": "2025-01-18T15:45:13.294259Z",
     "iopub.status.busy": "2025-01-18T15:45:13.293935Z",
     "iopub.status.idle": "2025-01-18T15:45:16.589874Z",
     "shell.execute_reply": "2025-01-18T15:45:16.588762Z",
     "shell.execute_reply.started": "2025-01-18T15:45:13.294226Z"
    },
    "id": "rwYu9sSUnSho",
    "trusted": true
   },
   "outputs": [],
   "source": [
    "# !pip install torchsummaryX==1.1.0 wandb --quiet"
   ]
  },
  {
   "cell_type": "code",
   "execution_count": 10,
   "metadata": {
    "execution": {
     "iopub.execute_input": "2025-01-18T15:45:16.591640Z",
     "iopub.status.busy": "2025-01-18T15:45:16.591296Z",
     "iopub.status.idle": "2025-01-18T15:45:19.851037Z",
     "shell.execute_reply": "2025-01-18T15:45:19.850127Z",
     "shell.execute_reply.started": "2025-01-18T15:45:16.591607Z"
    },
    "id": "ijYNIOkpYrXf",
    "trusted": true
   },
   "outputs": [],
   "source": [
    "# !pip install torchaudio --quiet"
   ]
  },
  {
   "cell_type": "code",
   "execution_count": 11,
   "metadata": {},
   "outputs": [],
   "source": [
    "# !pip install scikit-learn --quiet\n",
    "# !pip install pandas"
   ]
  },
  {
   "cell_type": "code",
   "execution_count": 12,
   "metadata": {
    "execution": {
     "iopub.execute_input": "2025-01-18T15:45:27.197960Z",
     "iopub.status.busy": "2025-01-18T15:45:27.197597Z",
     "iopub.status.idle": "2025-01-18T15:45:37.485903Z",
     "shell.execute_reply": "2025-01-18T15:45:37.485079Z",
     "shell.execute_reply.started": "2025-01-18T15:45:27.197928Z"
    },
    "id": "qI4qfx7tiBZt",
    "trusted": true
   },
   "outputs": [
    {
     "name": "stdout",
     "output_type": "stream",
     "text": [
      "Device:  cuda\n"
     ]
    }
   ],
   "source": [
    "import torch\n",
    "import torch.nn as nn\n",
    "import numpy as np\n",
    "from torchsummaryX import summary\n",
    "import sklearn\n",
    "import gc\n",
    "import zipfile\n",
    "import bisect\n",
    "import pandas as pd\n",
    "from tqdm.auto import tqdm\n",
    "import os\n",
    "import datetime\n",
    "import wandb\n",
    "import yaml\n",
    "import torchaudio.transforms as tat\n",
    "import torchaudio\n",
    "device = 'cuda' if torch.cuda.is_available() else 'cpu'\n",
    "print(\"Device: \", device)"
   ]
  },
  {
   "cell_type": "markdown",
   "metadata": {
    "id": "eqsFLqa6rCuc"
   },
   "source": [
    "# Mount Google Drive"
   ]
  },
  {
   "cell_type": "code",
   "execution_count": 13,
   "metadata": {
    "id": "Z23Nag1jq_yA"
   },
   "outputs": [
    {
     "data": {
      "text/plain": [
       "' If you are using colab, you can import google drive to save model checkpoints in a folder\\n    If you want to use it, uncomment the two lines below\\n'"
      ]
     },
     "execution_count": 13,
     "metadata": {},
     "output_type": "execute_result"
    }
   ],
   "source": [
    "''' If you are using colab, you can import google drive to save model checkpoints in a folder\n",
    "    If you want to use it, uncomment the two lines below\n",
    "'''\n",
    "# from google.colab import drive\n",
    "# drive.mount('/content/drive')"
   ]
  },
  {
   "cell_type": "code",
   "execution_count": 14,
   "metadata": {
    "execution": {
     "iopub.execute_input": "2024-12-31T15:17:20.484621Z",
     "iopub.status.busy": "2024-12-31T15:17:20.484276Z",
     "iopub.status.idle": "2024-12-31T15:17:20.489243Z",
     "shell.execute_reply": "2024-12-31T15:17:20.488394Z",
     "shell.execute_reply.started": "2024-12-31T15:17:20.484588Z"
    },
    "id": "N-9qE20hmCgQ",
    "trusted": true
   },
   "outputs": [],
   "source": [
    "### PHONEME LIST\n",
    "PHONEMES = [\n",
    "            '[SIL]',   'AA',    'AE',    'AH',    'AO',    'AW',    'AY',\n",
    "            'B',     'CH',    'D',     'DH',    'EH',    'ER',    'EY',\n",
    "            'F',     'G',     'HH',    'IH',    'IY',    'JH',    'K',\n",
    "            'L',     'M',     'N',     'NG',    'OW',    'OY',    'P',\n",
    "            'R',     'S',     'SH',    'T',     'TH',    'UH',    'UW',\n",
    "            'V',     'W',     'Y',     'Z',     'ZH',    '[SOS]', '[EOS]']"
   ]
  },
  {
   "cell_type": "markdown",
   "metadata": {
    "id": "ZIi0Big7vPa9"
   },
   "source": [
    "# Kaggle"
   ]
  },
  {
   "cell_type": "markdown",
   "metadata": {
    "id": "BBCbeRhixGM7"
   },
   "source": [
    "This section contains code that helps you install kaggle's API, creating kaggle.json with you username and API key details. Make sure to input those in the given code to ensure you can download data from the competition successfully."
   ]
  },
  {
   "cell_type": "code",
   "execution_count": 15,
   "metadata": {},
   "outputs": [],
   "source": [
    "# !unzip hw-1-p-2-data.zip"
   ]
  },
  {
   "cell_type": "code",
   "execution_count": 16,
   "metadata": {
    "execution": {
     "iopub.execute_input": "2024-12-24T01:51:36.557771Z",
     "iopub.status.busy": "2024-12-24T01:51:36.557557Z",
     "iopub.status.idle": "2024-12-24T01:51:39.853407Z",
     "shell.execute_reply": "2024-12-24T01:51:39.852241Z",
     "shell.execute_reply.started": "2024-12-24T01:51:36.557752Z"
    },
    "id": "TPBUd7Cnl-Rx",
    "trusted": true
   },
   "outputs": [],
   "source": [
    "# !pip install --upgrade kaggle==1.6.17 --force-reinstall --no-deps\n",
    "# !mkdir /root/.kaggle\n",
    "\n",
    "# with open(\"/root/.kaggle/kaggle.json\", \"w+\") as f:\n",
    "#     # Put your kaggle username & key here\n",
    "#     f.write('{\"username\":\"\",\"key\":\"\"}')\n",
    "\n",
    "# !chmod 600 /root/.kaggle/kaggle.json"
   ]
  },
  {
   "cell_type": "code",
   "execution_count": 17,
   "metadata": {
    "execution": {
     "iopub.execute_input": "2024-12-24T01:51:39.854726Z",
     "iopub.status.busy": "2024-12-24T01:51:39.854463Z",
     "iopub.status.idle": "2024-12-24T01:52:39.968030Z",
     "shell.execute_reply": "2024-12-24T01:52:39.967153Z",
     "shell.execute_reply.started": "2024-12-24T01:51:39.854703Z"
    },
    "id": "if2Somqfbje1",
    "trusted": true
   },
   "outputs": [],
   "source": [
    "# # commands to download data from kaggle\n",
    "# !kaggle competitions download -c 11785-spring-25-hw-1-p-2\n",
    "\n",
    "# # Unzip downloaded data\n",
    "# !unzip -qo /content/11785-spring-25-hw-1-p-2.zip -d '/content'"
   ]
  },
  {
   "cell_type": "markdown",
   "metadata": {
    "id": "qNacQ8bpt9nw"
   },
   "source": [
    "# Parameters Configuration"
   ]
  },
  {
   "cell_type": "markdown",
   "metadata": {
    "id": "WE7tsinAuLNy"
   },
   "source": [
    "Storing your parameters and hyperparameters in a single configuration dictionary makes it easier to keep track of them during each experiment. It can also be used with weights and biases to log your parameters for each experiment and keep track of them across multiple experiments."
   ]
  },
  {
   "cell_type": "code",
   "execution_count": 18,
   "metadata": {
    "id": "S5gMTwnSnp8K"
   },
   "outputs": [],
   "source": [
    "config = {\n",
    "    'Name': 'Lingyun', # Write your name here\n",
    "    'subset': 1.0, # Subset of dataset to use (1.0 == 100% of data)\n",
    "    'context': 30,\n",
    "    'archetype': 'diamond', # Default Values: pyramid, diamond, inverse-pyramid,cylinder\n",
    "    'activations': 'GELU',\n",
    "    'learning_rate': 0.001,\n",
    "    'dropout': 0.25,\n",
    "    'optimizers': 'SGD',\n",
    "    'scheduler': 'ReduceLROnPlateau',\n",
    "    'epochs': 30,\n",
    "    'batch_size': 2048,\n",
    "    'weight_decay': 0.05,\n",
    "    'weight_initialization': None, # e.g kaiming_normal, kaiming_uniform, uniform, xavier_normal or xavier_uniform\n",
    "    'augmentations': 'Both', # Options: [\"FreqMask\", \"TimeMask\", \"Both\", null]\n",
    "    'freq_mask_param': 4,\n",
    "    'time_mask_param': 8\n",
    " }"
   ]
  },
  {
   "cell_type": "code",
   "execution_count": 19,
   "metadata": {
    "id": "vzeqgWS9pumb"
   },
   "outputs": [
    {
     "data": {
      "text/plain": [
       "{'Name': 'Lingyun',\n",
       " 'subset': 1.0,\n",
       " 'context': 30,\n",
       " 'archetype': 'diamond',\n",
       " 'activations': 'GELU',\n",
       " 'learning_rate': 0.001,\n",
       " 'dropout': 0.25,\n",
       " 'optimizers': 'SGD',\n",
       " 'scheduler': 'ReduceLROnPlateau',\n",
       " 'epochs': 30,\n",
       " 'batch_size': 2048,\n",
       " 'weight_decay': 0.05,\n",
       " 'weight_initialization': None,\n",
       " 'augmentations': 'Both',\n",
       " 'freq_mask_param': 4,\n",
       " 'time_mask_param': 8}"
      ]
     },
     "execution_count": 19,
     "metadata": {},
     "output_type": "execute_result"
    }
   ],
   "source": [
    "config"
   ]
  },
  {
   "cell_type": "markdown",
   "metadata": {
    "id": "FYeyFHQ1yRi4"
   },
   "source": [
    "# Dataset Class"
   ]
  },
  {
   "cell_type": "markdown",
   "metadata": {
    "id": "2_7QgMbBdgPp"
   },
   "source": [
    "This section covers the dataset/dataloader class for speech data. You will have to spend time writing code to create this class successfully. We have given you a lot of comments guiding you on what code to write at each stage, from top to bottom of the class. Please try and take your time figuring this out, as it will immensely help in creating dataset/dataloader classes for future homeworks.\n",
    "\n",
    "Before running the following cells, please take some time to analyse the structure of data. Try loading a single MFCC and its transcipt, print out the shapes and print out the values. Do the transcripts look like phonemes?"
   ]
  },
  {
   "cell_type": "code",
   "execution_count": 20,
   "metadata": {
    "execution": {
     "iopub.execute_input": "2024-12-31T15:17:54.383981Z",
     "iopub.status.busy": "2024-12-31T15:17:54.383641Z",
     "iopub.status.idle": "2024-12-31T15:17:54.394276Z",
     "shell.execute_reply": "2024-12-31T15:17:54.393413Z",
     "shell.execute_reply.started": "2024-12-31T15:17:54.383952Z"
    },
    "id": "HYU4NAH65dSb",
    "trusted": true
   },
   "outputs": [],
   "source": [
    "import torch.nn.functional as F\n",
    "class AudioDataset(torch.utils.data.Dataset):\n",
    "    def __init__(self, root, phonemes=PHONEMES, context=0, partition=\"train-clean-100\"):\n",
    "      self.context = context\n",
    "      self.phonemes = phonemes\n",
    "      self.subset = config['subset']\n",
    "\n",
    "      # TODO: Initialize augmentations. Read the Pytorch torchaudio documentations on timemasking and frequencymasking\n",
    "      self.freq_masking = torchaudio.transforms.FrequencyMasking(freq_mask_param=config['freq_mask_param'])\n",
    "      self.time_masking = torchaudio.transforms.TimeMasking(time_mask_param=config['time_mask_param'])\n",
    "\n",
    "      # Set directories\n",
    "      self.mfcc_dir = os.path.join(root, partition, 'mfcc')\n",
    "      self.transcript_dir = os.path.join(root, partition, 'transcript')\n",
    "\n",
    "      # List files in sorted order\n",
    "      mfcc_names = sorted(os.listdir(self.mfcc_dir))\n",
    "      transcript_names = sorted(os.listdir(self.transcript_dir))\n",
    "\n",
    "      # Compute size of data subset\n",
    "      subset_size = int(self.subset * len(mfcc_names))\n",
    "      mfcc_names = mfcc_names[:subset_size]\n",
    "      transcript_names = transcript_names[:subset_size]\n",
    "      \n",
    "      assert len(mfcc_names) == len(transcript_names)\n",
    "\n",
    "      self.mfccs, self.transcripts = [], []\n",
    "\n",
    "      for i in tqdm(range(len(mfcc_names))):\n",
    "          # Load and normalize MFCC\n",
    "          mfcc = np.load(os.path.join(self.mfcc_dir, mfcc_names[i]))\n",
    "          mfccs_normalized = (mfcc - np.mean(mfcc, axis=0)) / (np.std(mfcc, axis=0) + 1e-8)\n",
    "          mfccs_normalized = torch.tensor(mfccs_normalized, dtype=torch.float32)\n",
    "\n",
    "          # Load and process transcript\n",
    "          transcript = np.load(os.path.join(self.transcript_dir, transcript_names[i]))\n",
    "          # print(transcript)\n",
    "          transcript = transcript[1:-1]  # Remove [SOS] and [EOS]\n",
    "\n",
    "          # Convert phonemes to indices\n",
    "          transcript_indices = [self.phonemes.index(p) for p in transcript]\n",
    "          transcript_indices = torch.tensor(transcript_indices, dtype=torch.int64)\n",
    "\n",
    "          self.mfccs.append(mfccs_normalized)\n",
    "          self.transcripts.append(transcript_indices)\n",
    "\n",
    "      # Concatenate all mfccs and transcripts\n",
    "      self.mfccs = torch.cat(self.mfccs, dim=0)\n",
    "      self.transcripts = torch.cat(self.transcripts, dim=0)\n",
    "      \n",
    "      self.length = len(self.mfccs)\n",
    "\n",
    "      # # Add context padding\n",
    "      padding = (0, 0, self.context, self.context)\n",
    "      self.mfccs = F.pad(self.mfccs, padding, mode='constant', value=0)\n",
    "\n",
    "    def __len__(self):\n",
    "      return self.length\n",
    "\n",
    "    def __getitem__(self, ind):\n",
    "      # Get frames with context\n",
    "      start_idx = ind\n",
    "      end_idx = ind + 2 * self.context + 1\n",
    "      frames = self.mfccs[start_idx:end_idx]\n",
    "      \n",
    "      phonemes = self.transcripts[ind]\n",
    "      return frames, phonemes\n",
    "\n",
    "    def collate_fn(self, batch):\n",
    "      x, y = zip(*batch)\n",
    "      x = torch.stack(x, dim=0)\n",
    "\n",
    "      if np.random.rand() < 0.70:\n",
    "        x = x.transpose(1, 2)\n",
    "        x = self.freq_masking(x)\n",
    "        x = self.time_masking(x)\n",
    "        x = x.transpose(1, 2)\n",
    "\n",
    "      return x, torch.tensor(y)\n"
   ]
  },
  {
   "cell_type": "code",
   "execution_count": 21,
   "metadata": {
    "execution": {
     "iopub.execute_input": "2024-12-31T15:18:40.554498Z",
     "iopub.status.busy": "2024-12-31T15:18:40.554136Z",
     "iopub.status.idle": "2024-12-31T15:18:40.561523Z",
     "shell.execute_reply": "2024-12-31T15:18:40.560566Z",
     "shell.execute_reply.started": "2024-12-31T15:18:40.554472Z"
    },
    "id": "C0rme6iT5dSb",
    "trusted": true
   },
   "outputs": [],
   "source": [
    "# TODO: Create a test dataset class similar to the previous class but you dont have transcripts for this\n",
    "# Imp: Read the mfccs in sorted order, do NOT shuffle the data here or in your dataloader.\n",
    "# IMPORTANT: Load complete test data to use, DO NOT select subset of test data, else you will get errors when submitting on Kaggle.\n",
    "\n",
    "class AudioTestDataset(torch.utils.data.Dataset):\n",
    "    def __init__(self, root, context=0, partition=\"test-clean\"):\n",
    "        self.context = context\n",
    "        \n",
    "        # Set test data directory\n",
    "        self.mfcc_dir = os.path.join(root, partition, 'mfcc')\n",
    "        \n",
    "        # List files in sorted order\n",
    "        self.mfcc_names = sorted(os.listdir(self.mfcc_dir))\n",
    "\n",
    "        self.mfccs = []\n",
    "\n",
    "        for mfcc_file in tqdm(self.mfcc_names):\n",
    "            # Load and normalize MFCC\n",
    "            mfcc = np.load(os.path.join(self.mfcc_dir, mfcc_file))\n",
    "            mfccs_normalized = (mfcc - np.mean(mfcc, axis=0)) / (np.std(mfcc, axis=0) + 1e-8)\n",
    "            mfccs_normalized = torch.tensor(mfccs_normalized, dtype=torch.float32)\n",
    "            self.mfccs.append(mfccs_normalized)\n",
    "\n",
    "        # Concatenate all mfccs \n",
    "        self.mfccs = torch.cat(self.mfccs, dim=0)\n",
    "        \n",
    "        self.length = len(self.mfccs)\n",
    "\n",
    "        # Add context padding\n",
    "        padding = (0, 0, self.context, self.context)\n",
    "        self.mfccs = F.pad(self.mfccs, padding, mode='constant', value=0)\n",
    "\n",
    "    def __len__(self):\n",
    "        return self.length\n",
    "\n",
    "    def __getitem__(self, ind):\n",
    "        # Get frames with context\n",
    "        start_idx = ind\n",
    "        end_idx = ind + 2 * self.context + 1\n",
    "        frames = self.mfccs[start_idx:end_idx]\n",
    "        return frames\n",
    "\n"
   ]
  },
  {
   "cell_type": "markdown",
   "metadata": {
    "id": "2mlwaKlDt_2c"
   },
   "source": [
    "# Create Datasets"
   ]
  },
  {
   "cell_type": "code",
   "execution_count": 22,
   "metadata": {
    "execution": {
     "iopub.execute_input": "2024-12-31T15:19:09.189955Z",
     "iopub.status.busy": "2024-12-31T15:19:09.189592Z",
     "iopub.status.idle": "2024-12-31T15:24:30.163981Z",
     "shell.execute_reply": "2024-12-31T15:24:30.163061Z",
     "shell.execute_reply.started": "2024-12-31T15:19:09.189927Z"
    },
    "id": "gJvMzHhB5dSc",
    "trusted": true
   },
   "outputs": [
    {
     "name": "stderr",
     "output_type": "stream",
     "text": [
      "100%|██████████| 28539/28539 [00:36<00:00, 780.50it/s]\n",
      "100%|██████████| 2703/2703 [00:02<00:00, 1340.31it/s]\n",
      "100%|██████████| 2620/2620 [00:00<00:00, 3192.74it/s]\n"
     ]
    }
   ],
   "source": [
    "ROOT = \"/home/xly/11785/hw1p2/11785-s25-hw1p2\" # Define the root directory of the dataset here\n",
    "\n",
    "# TODO: Create a dataset object using the AudioDataset class for the training data\n",
    "train_data = AudioDataset(ROOT, context=config['context'], partition=\"train-clean-100\")\n",
    "\n",
    "# TODO: Create a dataset object using the AudioDataset class for the validation data\n",
    "val_data = AudioDataset(ROOT, context=config['context'], partition=\"dev-clean\")\n",
    "\n",
    "# TODO: Create a dataset object using the AudioTestDataset class for the test data\n",
    "test_data = AudioTestDataset(ROOT, context=config['context'], partition=\"test-clean\")"
   ]
  },
  {
   "cell_type": "code",
   "execution_count": 23,
   "metadata": {},
   "outputs": [
    {
     "name": "stderr",
     "output_type": "stream",
     "text": [
      "100%|██████████| 2620/2620 [00:00<00:00, 3178.04it/s]\n"
     ]
    }
   ],
   "source": [
    "# TODO: Create a dataset object using the AudioTestDataset class for the test data\n",
    "test_data = AudioTestDataset(ROOT, context=config['context'], partition=\"test-clean\")"
   ]
  },
  {
   "cell_type": "code",
   "execution_count": 24,
   "metadata": {},
   "outputs": [
    {
     "name": "stdout",
     "output_type": "stream",
     "text": [
      "1928204\n",
      "Counter({0: 319908, 3: 123734, 29: 101184, 31: 97390, 23: 94541, 17: 74887, 18: 70861, 21: 65902, 9: 62763, 28: 62686, 12: 54928, 38: 54850, 6: 49332, 2: 49298, 11: 47112, 20: 47016, 22: 44728, 36: 37697, 14: 37562, 10: 37100, 13: 36184, 16: 34813, 27: 34131, 25: 30755, 1: 29688, 4: 29340, 35: 27440, 34: 26691, 7: 23607, 5: 20274, 24: 19327, 30: 17628, 15: 13541, 8: 12644, 37: 9669, 32: 9247, 19: 8730, 33: 6286, 26: 3861, 39: 869})\n",
      "Least common index: 39\n"
     ]
    }
   ],
   "source": [
    "from collections import Counter\n",
    "\n",
    "print(len(val_data))\n",
    "# Find the least common index in val_data.transcripts\n",
    "# Flatten the list of transcripts\n",
    "all_transcripts = val_data.transcripts.tolist()\n",
    "\n",
    "# Count the frequency of each index\n",
    "transcript_counts = Counter(all_transcripts)\n",
    "\n",
    "print(transcript_counts)\n",
    "# Find the least common index\n",
    "least_common_idx = transcript_counts.most_common()[-1][0]\n",
    "print(\"Least common index:\", least_common_idx)"
   ]
  },
  {
   "cell_type": "code",
   "execution_count": 25,
   "metadata": {
    "execution": {
     "iopub.execute_input": "2024-12-31T15:24:37.105100Z",
     "iopub.status.busy": "2024-12-31T15:24:37.104785Z",
     "iopub.status.idle": "2024-12-31T15:24:37.113609Z",
     "shell.execute_reply": "2024-12-31T15:24:37.112725Z",
     "shell.execute_reply.started": "2024-12-31T15:24:37.105072Z"
    },
    "id": "4mzoYfTKu14s",
    "trusted": true
   },
   "outputs": [
    {
     "name": "stdout",
     "output_type": "stream",
     "text": [
      "Batch size     :  2048\n",
      "Context        :  30\n",
      "Input size     :  1708\n",
      "Output symbols :  42\n",
      "Train dataset samples = 36091157, batches = 17623\n",
      "Validation dataset samples = 1928204, batches = 942\n",
      "Test dataset samples = 1934138, batches = 945\n"
     ]
    }
   ],
   "source": [
    "# Define dataloaders for train, val and test datasets\n",
    "# Dataloaders will yield a batch of frames and phonemes of given batch_size at every iteration\n",
    "# We shuffle train dataloader but not val & test dataloader. Why?\n",
    "\n",
    "train_loader = torch.utils.data.DataLoader(\n",
    "    dataset     = train_data,\n",
    "    num_workers = 4,\n",
    "    batch_size  = config['batch_size'],\n",
    "    pin_memory  = True,\n",
    "    shuffle     = True,\n",
    "    collate_fn = train_data.collate_fn\n",
    ")\n",
    "\n",
    "val_loader = torch.utils.data.DataLoader(\n",
    "    dataset     = val_data,\n",
    "    num_workers = 0,\n",
    "    batch_size  = config['batch_size'],\n",
    "    pin_memory  = True,\n",
    "    shuffle     = False\n",
    ")\n",
    "\n",
    "test_loader = torch.utils.data.DataLoader(\n",
    "    dataset     = test_data,\n",
    "    num_workers = 0,\n",
    "    batch_size  = config['batch_size'],\n",
    "    pin_memory  = True,\n",
    "    shuffle     = False\n",
    ")\n",
    "\n",
    "\n",
    "print(\"Batch size     : \", config['batch_size'])\n",
    "print(\"Context        : \", config['context'])\n",
    "print(\"Input size     : \", (2*config['context']+1)*28)\n",
    "print(\"Output symbols : \", len(PHONEMES))\n",
    "\n",
    "print(\"Train dataset samples = {}, batches = {}\".format(train_data.__len__(), len(train_loader)))\n",
    "print(\"Validation dataset samples = {}, batches = {}\".format(val_data.__len__(), len(val_loader)))\n",
    "print(\"Test dataset samples = {}, batches = {}\".format(test_data.__len__(), len(test_loader)))"
   ]
  },
  {
   "cell_type": "code",
   "execution_count": 26,
   "metadata": {
    "execution": {
     "iopub.execute_input": "2024-12-31T15:27:30.225789Z",
     "iopub.status.busy": "2024-12-31T15:27:30.225475Z",
     "iopub.status.idle": "2024-12-31T15:27:36.866313Z",
     "shell.execute_reply": "2024-12-31T15:27:36.865100Z",
     "shell.execute_reply.started": "2024-12-31T15:27:30.225762Z"
    },
    "id": "n-GV3UvgLSoF",
    "trusted": true
   },
   "outputs": [
    {
     "name": "stdout",
     "output_type": "stream",
     "text": [
      "torch.Size([2048, 61, 28]) torch.Size([2048])\n"
     ]
    },
    {
     "data": {
      "image/png": "[encoded data removed]",
      "text/plain": [
       "<Figure size 1000x600 with 1 Axes>"
      ]
     },
     "metadata": {},
     "output_type": "display_data"
    }
   ],
   "source": [
    "import matplotlib.pyplot as plt\n",
    "\n",
    "# Testing code to check if your data loaders are working\n",
    "for i, data in enumerate(train_loader):\n",
    "    frames, phoneme = data\n",
    "    print(frames.shape, phoneme.shape)\n",
    "\n",
    "    # Visualize sample mfcc to inspect and verify everything is correctly done, especially augmentations\n",
    "    plt.figure(figsize=(10, 6))\n",
    "    plt.imshow(frames[0].numpy().T, aspect='auto', origin='lower', cmap='viridis')\n",
    "    plt.xlabel('Time')\n",
    "    plt.ylabel('Features')\n",
    "    plt.title('Feature Representation')\n",
    "    plt.show()\n",
    "\n",
    "    break"
   ]
  },
  {
   "cell_type": "code",
   "execution_count": 27,
   "metadata": {
    "execution": {
     "iopub.execute_input": "2024-12-24T02:04:28.807971Z",
     "iopub.status.busy": "2024-12-24T02:04:28.807726Z",
     "iopub.status.idle": "2024-12-24T02:04:58.177819Z",
     "shell.execute_reply": "2024-12-24T02:04:58.176831Z",
     "shell.execute_reply.started": "2024-12-24T02:04:28.807951Z"
    },
    "id": "dJTrLe7J5dSc",
    "trusted": true
   },
   "outputs": [],
   "source": [
    "# Testing code to check if your validation data loaders are working\n",
    "all = []\n",
    "for i, data in enumerate(val_loader):\n",
    "    frames, phoneme = data\n",
    "    all.append(phoneme)\n",
    "    break"
   ]
  },
  {
   "cell_type": "markdown",
   "metadata": {
    "id": "Nxjwve20JRJ2"
   },
   "source": [
    "# Network Architecture\n"
   ]
  },
  {
   "cell_type": "markdown",
   "metadata": {
    "id": "3NJzT-mRw6iy"
   },
   "source": [
    "This section defines your network architecture for the homework. We have given you a sample architecture that can easily clear the very low cutoff for the early submission deadline."
   ]
  },
  {
   "cell_type": "code",
   "execution_count": 28,
   "metadata": {
    "execution": {
     "iopub.execute_input": "2024-12-31T15:29:20.193972Z",
     "iopub.status.busy": "2024-12-31T15:29:20.193622Z",
     "iopub.status.idle": "2024-12-31T15:29:20.203743Z",
     "shell.execute_reply": "2024-12-31T15:29:20.202883Z",
     "shell.execute_reply.started": "2024-12-31T15:29:20.193944Z"
    },
    "id": "-YsMpN-Exafq",
    "trusted": true
   },
   "outputs": [],
   "source": [
    "# This architecture will make you cross the very low cutoff\n",
    "# However, you need to run a lot of experiments to cross the medium or high cutoff\n",
    "\n",
    "class Network(nn.Module):\n",
    "    def __init__(self, input_size, output_size):\n",
    "        super(Network, self).__init__()\n",
    "\n",
    "        self.model = nn.Sequential(\n",
    "            torch.nn.Linear(input_size, 512),\n",
    "            torch.nn.ReLU(),\n",
    "            torch.nn.Linear(512, output_size)\n",
    "        )\n",
    "\n",
    "        if config['weight_initialization'] is not None:\n",
    "            self.initialize_weights()\n",
    "\n",
    "    def initialize_weights(self):\n",
    "        for m in self.modules():\n",
    "            if isinstance(m, torch.nn.Linear):\n",
    "                if config[\"weight_initialization\"] == \"xavier_normal\":\n",
    "                    torch.nn.init.xavier_normal_(m.weight)\n",
    "                elif config[\"weight_initialization\"] == \"xavier_uniform\":\n",
    "                    torch.nn.init.xavier_uniform_(m.weight)\n",
    "                elif config[\"weight_initialization\"] == \"kaiming_normal\":\n",
    "                    torch.nn.init.kaiming_normal_(m.weight, nonlinearity='relu')\n",
    "                elif config[\"weight_initialization\"] == \"kaiming_uniform\":\n",
    "                    torch.nn.init.kaiming_uniform_(m.weight, nonlinearity='relu')\n",
    "                elif config[\"weight_initialization\"] == \"uniform\":\n",
    "                    torch.nn.init.uniform_(m.weight)\n",
    "                else:\n",
    "                    raise ValueError(\"Invalid weight_initialization value\")\n",
    "\n",
    "                # Initialize bias to 0\n",
    "                m.bias.data.fill_(0)\n",
    "\n",
    "\n",
    "    def forward(self, x):\n",
    "\n",
    "        # Flatten to a 1D vector for each data point\n",
    "        x = torch.flatten(x, start_dim=1)  # Keeps batch size, flattens the rest\n",
    "\n",
    "        return self.model(x)"
   ]
  },
  {
   "cell_type": "markdown",
   "metadata": {
    "id": "HejoSXe3vMVU"
   },
   "source": [
    "# Define Model, Loss Function and Optimizer"
   ]
  },
  {
   "cell_type": "markdown",
   "metadata": {
    "id": "xAhGBH7-xxth"
   },
   "source": [
    "Here we define the model, loss function, optimizer and optionally a learning rate scheduler."
   ]
  },
  {
   "cell_type": "code",
   "execution_count": 29,
   "metadata": {
    "execution": {
     "iopub.execute_input": "2024-12-31T15:29:23.891053Z",
     "iopub.status.busy": "2024-12-31T15:29:23.890697Z",
     "iopub.status.idle": "2024-12-31T15:29:24.267793Z",
     "shell.execute_reply": "2024-12-31T15:29:24.267100Z",
     "shell.execute_reply.started": "2024-12-31T15:29:23.891023Z"
    },
    "id": "_qtrEM1ZvLje",
    "trusted": true
   },
   "outputs": [
    {
     "name": "stdout",
     "output_type": "stream",
     "text": [
      "----------------------------------------------------------------------------------------------------\n",
      "Layer                   Kernel Shape         Output Shape         # Params (K)      # Mult-Adds (M)\n",
      "====================================================================================================\n",
      "0_Linear                 [1708, 512]          [2048, 512]               875.01                 0.87\n",
      "1_ReLU                             -          [2048, 512]                    -                    -\n",
      "2_Linear                   [512, 42]           [2048, 42]                21.55                 0.02\n",
      "====================================================================================================\n",
      "# Params:    896.55K\n",
      "# Mult-Adds: 0.90M\n",
      "----------------------------------------------------------------------------------------------------\n"
     ]
    }
   ],
   "source": [
    "INPUT_SIZE  = (2*config['context'] + 1) * 28 # Why is this the case?\n",
    "model       = Network(INPUT_SIZE, len(train_data.phonemes)).to(device).cuda()\n",
    "summary(model, frames.to(device))\n",
    "# Check number of parameters of your network\n",
    "# Remember, you are limited to 20 million parameters for HW1 (including ensembles)"
   ]
  },
  {
   "cell_type": "markdown",
   "metadata": {
    "id": "uSk4YP63TBnD"
   },
   "source": [
    "# Define Model, Loss Function and Optimizer"
   ]
  },
  {
   "cell_type": "markdown",
   "metadata": {
    "id": "cwdxl4RiTBnD"
   },
   "source": [
    "Here we define the model, loss function, optimizer and optionally a learning rate scheduler."
   ]
  },
  {
   "cell_type": "code",
   "execution_count": 30,
   "metadata": {
    "execution": {
     "iopub.execute_input": "2024-12-31T15:29:28.681502Z",
     "iopub.status.busy": "2024-12-31T15:29:28.681153Z",
     "iopub.status.idle": "2024-12-31T15:29:29.386622Z",
     "shell.execute_reply": "2024-12-31T15:29:29.385517Z",
     "shell.execute_reply.started": "2024-12-31T15:29:28.681476Z"
    },
    "id": "kZgQ7AgyTBnE",
    "trusted": true
   },
   "outputs": [
    {
     "name": "stderr",
     "output_type": "stream",
     "text": [
      "/home/xly/mambaforge/lib/python3.10/site-packages/torch/optim/lr_scheduler.py:62: UserWarning: The verbose parameter is deprecated. Please use get_last_lr() to access the learning rate.\n",
      "  warnings.warn(\n"
     ]
    }
   ],
   "source": [
    "criterion = torch.nn.CrossEntropyLoss() # Defining Loss function.\n",
    "# We use CE because the task is multi-class classification\n",
    "\n",
    "# Choose an appropriate optimizer of your choice\n",
    "optimizer = torch.optim.AdamW(model.parameters(), lr=config['learning_rate'])\n",
    "\n",
    "# Recommended : Define Scheduler for Learning Rate,\n",
    "# including but not limited to StepLR, MultiStep, CosineAnnealing, CosineAnnealingWithWarmRestarts, ReduceLROnPlateau, etc.\n",
    "# You can refer to Pytorch documentation for more information on how to use them.\n",
    "scheduler = torch.optim.lr_scheduler.ReduceLROnPlateau(optimizer, mode='min', factor=0.1, patience=2, verbose=True)\n",
    "\n",
    "# Is your training time very high?\n",
    "# Look into mixed precision training if your GPU (Tesla T4, V100, etc) can make use of it\n",
    "# Refer - https://pytorch.org/docs/stable/notes/amp_examples.html\n",
    "# Mixed Precision Training with AMP for speedup\n",
    "scaler = torch.amp.GradScaler('cuda', enabled=True)"
   ]
  },
  {
   "cell_type": "markdown",
   "metadata": {
    "id": "IBwunYpyugFg"
   },
   "source": [
    "# Training and Validation Functions"
   ]
  },
  {
   "cell_type": "markdown",
   "metadata": {
    "id": "1JgeNhx4x2-P"
   },
   "source": [
    "This section covers the training, and validation functions for each epoch of running your experiment with a given model architecture. The code has been provided to you, but we recommend going through the comments to understand the workflow to enable you to write these loops for future HWs."
   ]
  },
  {
   "cell_type": "code",
   "execution_count": 31,
   "metadata": {
    "execution": {
     "iopub.execute_input": "2024-12-31T15:29:33.552602Z",
     "iopub.status.busy": "2024-12-31T15:29:33.551839Z",
     "iopub.status.idle": "2024-12-31T15:29:33.739892Z",
     "shell.execute_reply": "2024-12-31T15:29:33.739136Z",
     "shell.execute_reply.started": "2024-12-31T15:29:33.552569Z"
    },
    "id": "XblOHEVtKab2",
    "trusted": true
   },
   "outputs": [
    {
     "data": {
      "text/plain": [
       "107"
      ]
     },
     "execution_count": 31,
     "metadata": {},
     "output_type": "execute_result"
    }
   ],
   "source": [
    "# CLEAR RAM!!\n",
    "torch.cuda.empty_cache()\n",
    "gc.collect()"
   ]
  },
  {
   "cell_type": "code",
   "execution_count": 32,
   "metadata": {
    "execution": {
     "iopub.execute_input": "2024-12-31T15:29:35.533310Z",
     "iopub.status.busy": "2024-12-31T15:29:35.532955Z",
     "iopub.status.idle": "2024-12-31T15:29:35.539902Z",
     "shell.execute_reply": "2024-12-31T15:29:35.539084Z",
     "shell.execute_reply.started": "2024-12-31T15:29:35.533280Z"
    },
    "id": "8wjPz7DHqKcL",
    "trusted": true
   },
   "outputs": [],
   "source": [
    "def train(model, dataloader, optimizer, criterion):\n",
    "\n",
    "    model.train()\n",
    "    tloss, tacc = 0, 0 # Monitoring loss and accuracy\n",
    "    batch_bar   = tqdm(total=len(train_loader), dynamic_ncols=True, leave=False, position=0, desc='Train')\n",
    "\n",
    "    for i, (frames, phonemes) in enumerate(dataloader):\n",
    "\n",
    "        ### Initialize Gradients\n",
    "        optimizer.zero_grad()\n",
    "\n",
    "        frames      = frames.to(device)\n",
    "        phonemes    = phonemes.to(device)\n",
    "\n",
    "        with torch.autocast(device_type=device, dtype=torch.float16):\n",
    "            ### Forward Propagation\n",
    "            logits  = model(frames)\n",
    "\n",
    "            ### Loss Calculation\n",
    "            loss    = criterion(logits, phonemes)\n",
    "\n",
    "        ### Backward Propagation\n",
    "        scaler.scale(loss).backward()\n",
    "\n",
    "        # OPTIONAL: You can add gradient clipping here, if you face issues of exploding gradients\n",
    "\n",
    "        ### Gradient Descent\n",
    "        scaler.step(optimizer)\n",
    "        scaler.update()\n",
    "\n",
    "        tloss   += loss.item()\n",
    "        tacc    += torch.sum(torch.argmax(logits, dim= 1) == phonemes).item()/logits.shape[0]\n",
    "\n",
    "        batch_bar.set_postfix(loss=\"{:.04f}\".format(float(tloss / (i + 1))),\n",
    "                              acc=\"{:.04f}%\".format(float(tacc*100 / (i + 1))))\n",
    "        batch_bar.update()\n",
    "\n",
    "        ### Release memory\n",
    "        del frames, phonemes, logits\n",
    "        torch.cuda.empty_cache()\n",
    "\n",
    "\n",
    "    batch_bar.close()\n",
    "    tloss   /= len(train_loader)\n",
    "    tacc    /= len(train_loader)\n",
    "\n",
    "\n",
    "    return tloss, tacc"
   ]
  },
  {
   "cell_type": "code",
   "execution_count": 33,
   "metadata": {
    "execution": {
     "iopub.execute_input": "2024-12-31T15:29:39.024010Z",
     "iopub.status.busy": "2024-12-31T15:29:39.023658Z",
     "iopub.status.idle": "2024-12-31T15:29:39.030046Z",
     "shell.execute_reply": "2024-12-31T15:29:39.029273Z",
     "shell.execute_reply.started": "2024-12-31T15:29:39.023980Z"
    },
    "id": "Q5npQNFH315V",
    "trusted": true
   },
   "outputs": [],
   "source": [
    "def eval(model, dataloader):\n",
    "\n",
    "    model.eval() # set model in evaluation mode\n",
    "    vloss, vacc = 0, 0 # Monitoring loss and accuracy\n",
    "    batch_bar   = tqdm(total=len(val_loader), dynamic_ncols=True, position=0, leave=False, desc='Val')\n",
    "\n",
    "    for i, (frames, phonemes) in enumerate(dataloader):\n",
    "\n",
    "        ### Move data to device (ideally GPU)\n",
    "        frames      = frames.to(device)\n",
    "        phonemes    = phonemes.to(device)\n",
    "\n",
    "        # makes sure that there are no gradients computed as we are not training the model now\n",
    "        with torch.inference_mode():\n",
    "            ### Forward Propagation\n",
    "            logits  = model(frames)\n",
    "            ### Loss Calculation\n",
    "            loss    = criterion(logits, phonemes)\n",
    "\n",
    "        vloss   += loss.item()\n",
    "        vacc    += torch.sum(torch.argmax(logits, dim= 1) == phonemes).item()/logits.shape[0]\n",
    "\n",
    "        # Do you think we need loss.backward() and optimizer.step() here?\n",
    "\n",
    "        batch_bar.set_postfix(loss=\"{:.04f}\".format(float(vloss / (i + 1))),\n",
    "                              acc=\"{:.04f}%\".format(float(vacc*100 / (i + 1))))\n",
    "        batch_bar.update()\n",
    "\n",
    "        ### Release memory\n",
    "        del frames, phonemes, logits\n",
    "        torch.cuda.empty_cache()\n",
    "\n",
    "    batch_bar.close()\n",
    "    vloss   /= len(val_loader)\n",
    "    vacc    /= len(val_loader)\n",
    "\n",
    "    return vloss, vacc"
   ]
  },
  {
   "cell_type": "markdown",
   "metadata": {
    "id": "yMd_XxPku5qp"
   },
   "source": [
    "# Weights and Biases Setup"
   ]
  },
  {
   "cell_type": "markdown",
   "metadata": {
    "id": "tjIbhR1wwbgI"
   },
   "source": [
    "This section is to enable logging metrics and files with Weights and Biases. Please refer to wandb documentationa and recitation 0 that covers the use of weights and biases for logging, hyperparameter tuning and monitoring your runs for your homeworks. Using this tool makes it very easy to show results when submitting your code and models for homeworks, and also extremely useful for study groups to organize and run ablations under a single team in wandb.\n",
    "\n",
    "We have written code for you to make use of it out of the box, so that you start using wandb for all your HWs from the beginning."
   ]
  },
  {
   "cell_type": "code",
   "execution_count": 34,
   "metadata": {
    "execution": {
     "iopub.execute_input": "2024-12-31T15:29:45.702653Z",
     "iopub.status.busy": "2024-12-31T15:29:45.702239Z",
     "iopub.status.idle": "2024-12-31T15:29:52.086338Z",
     "shell.execute_reply": "2024-12-31T15:29:52.085568Z",
     "shell.execute_reply.started": "2024-12-31T15:29:45.702611Z"
    },
    "id": "SCDYx5VEu6qI",
    "trusted": true
   },
   "outputs": [
    {
     "name": "stderr",
     "output_type": "stream",
     "text": [
      "\u001b[34m\u001b[1mwandb\u001b[0m: Currently logged in as: \u001b[33mavidjoyce23\u001b[0m (\u001b[33mavidjoyce23-peking-university\u001b[0m). Use \u001b[1m`wandb login --relogin`\u001b[0m to force relogin\n",
      "\u001b[34m\u001b[1mwandb\u001b[0m: \u001b[33mWARNING\u001b[0m If you're specifying your api key in code, ensure this code is not shared publicly.\n",
      "\u001b[34m\u001b[1mwandb\u001b[0m: \u001b[33mWARNING\u001b[0m Consider setting the WANDB_API_KEY environment variable, or running `wandb login` from the command line.\n",
      "\u001b[34m\u001b[1mwandb\u001b[0m: Appending key for api.wandb.ai to your netrc file: /home/xly/.netrc\n"
     ]
    },
    {
     "data": {
      "text/plain": [
       "True"
      ]
     },
     "execution_count": 34,
     "metadata": {},
     "output_type": "execute_result"
    }
   ],
   "source": [
    "wandb.login(key=\"4dd2f46439865db4e3547d39c268ff46468b8ef4\") #API Key is in your wandb account, under settings (wandb.ai/settings)"
   ]
  },
  {
   "cell_type": "code",
   "execution_count": 35,
   "metadata": {
    "execution": {
     "iopub.execute_input": "2024-12-31T15:29:54.895747Z",
     "iopub.status.busy": "2024-12-31T15:29:54.895254Z",
     "iopub.status.idle": "2024-12-31T15:30:01.107921Z",
     "shell.execute_reply": "2024-12-31T15:30:01.106993Z",
     "shell.execute_reply.started": "2024-12-31T15:29:54.895723Z"
    },
    "id": "xvUnYd3Bw2up",
    "trusted": true
   },
   "outputs": [
    {
     "name": "stderr",
     "output_type": "stream",
     "text": [
      "\u001b[34m\u001b[1mwandb\u001b[0m: Using wandb-core as the SDK backend.  Please refer to https://wandb.me/wandb-core for more information.\n"
     ]
    },
    {
     "data": {
      "text/html": [
       "Tracking run with wandb version 0.19.4"
      ],
      "text/plain": [
       "<IPython.core.display.HTML object>"
      ]
     },
     "metadata": {},
     "output_type": "display_data"
    },
    {
     "data": {
      "text/html": [
       "Run data is saved locally in <code>/home/xly/11785/hw1p2/wandb/run-20250123_061419-63npfjif</code>"
      ],
      "text/plain": [
       "<IPython.core.display.HTML object>"
      ]
     },
     "metadata": {},
     "output_type": "display_data"
    },
    {
     "data": {
      "text/html": [
       "Syncing run <strong><a href='https://wandb.ai/avidjoyce23-peking-university/hw1p2/runs/63npfjif' target=\"_blank\">11785</a></strong> to <a href='https://wandb.ai/avidjoyce23-peking-university/hw1p2' target=\"_blank\">Weights & Biases</a> (<a href='https://wandb.me/developer-guide' target=\"_blank\">docs</a>)<br>"
      ],
      "text/plain": [
       "<IPython.core.display.HTML object>"
      ]
     },
     "metadata": {},
     "output_type": "display_data"
    },
    {
     "data": {
      "text/html": [
       " View project at <a href='https://wandb.ai/avidjoyce23-peking-university/hw1p2' target=\"_blank\">https://wandb.ai/avidjoyce23-peking-university/hw1p2</a>"
      ],
      "text/plain": [
       "<IPython.core.display.HTML object>"
      ]
     },
     "metadata": {},
     "output_type": "display_data"
    },
    {
     "data": {
      "text/html": [
       " View run at <a href='https://wandb.ai/avidjoyce23-peking-university/hw1p2/runs/63npfjif' target=\"_blank\">https://wandb.ai/avidjoyce23-peking-university/hw1p2/runs/63npfjif</a>"
      ],
      "text/plain": [
       "<IPython.core.display.HTML object>"
      ]
     },
     "metadata": {},
     "output_type": "display_data"
    }
   ],
   "source": [
    "# Create your wandb run\n",
    "run = wandb.init(\n",
    "    name    = \"11785\", ### Wandb creates random run names if you skip this field, we recommend you give useful names\n",
    "    reinit  = True, ### Allows reinitalizing runs when you re-run this cell\n",
    "    #id     = \"\", ### Insert specific run id here if you want to resume a previous run\n",
    "    #resume = \"must\", ### You need this to resume previous runs, but comment out reinit = True when using this\n",
    "    project = \"hw1p2\", ### Project should be created in your wandb account\n",
    "    config  = config ### Wandb Config for your run\n",
    ")"
   ]
  },
  {
   "cell_type": "code",
   "execution_count": 36,
   "metadata": {
    "execution": {
     "iopub.execute_input": "2024-12-31T15:30:12.132356Z",
     "iopub.status.busy": "2024-12-31T15:30:12.131957Z",
     "iopub.status.idle": "2024-12-31T15:30:12.142067Z",
     "shell.execute_reply": "2024-12-31T15:30:12.141280Z",
     "shell.execute_reply.started": "2024-12-31T15:30:12.132322Z"
    },
    "id": "wft15E_IxYFi",
    "trusted": true
   },
   "outputs": [
    {
     "data": {
      "text/plain": [
       "['/home/xly/11785/hw1p2/wandb/run-20250123_061419-63npfjif/files/model_arch.txt']"
      ]
     },
     "execution_count": 36,
     "metadata": {},
     "output_type": "execute_result"
    }
   ],
   "source": [
    "### Save your model architecture as a string with str(model)\n",
    "model_arch  = str(model)\n",
    "\n",
    "### Save it in a txt file\n",
    "arch_file   = open(\"model_arch.txt\", \"w\")\n",
    "file_write  = arch_file.write(model_arch)\n",
    "arch_file.close()\n",
    "\n",
    "### log it in your wandb run with wandb.save()\n",
    "wandb.save('model_arch.txt')"
   ]
  },
  {
   "cell_type": "markdown",
   "metadata": {
    "id": "nclx_04fu7Dd"
   },
   "source": [
    "# Experiment"
   ]
  },
  {
   "cell_type": "markdown",
   "metadata": {
    "id": "MdLMWfEpyGOB"
   },
   "source": [
    "Now, it is time to finally run your ablations! Have fun!"
   ]
  },
  {
   "cell_type": "code",
   "execution_count": 37,
   "metadata": {
    "execution": {
     "iopub.execute_input": "2024-12-31T15:30:23.248062Z",
     "iopub.status.busy": "2024-12-31T15:30:23.247745Z"
    },
    "id": "4NNCA5DDTBnO",
    "trusted": true
   },
   "outputs": [
    {
     "name": "stdout",
     "output_type": "stream",
     "text": [
      "\n",
      "Epoch 1/30\n"
     ]
    },
    {
     "name": "stderr",
     "output_type": "stream",
     "text": [
      "Train:   0%|          | 0/17623 [00:00<?, ?it/s]"
     ]
    },
    {
     "name": "stderr",
     "output_type": "stream",
     "text": [
      "                                                                                        \r"
     ]
    },
    {
     "name": "stdout",
     "output_type": "stream",
     "text": [
      "\tTrain Acc 63.2409%\tTrain Loss 1.2098\t Learning Rate 0.0010000\n",
      "\tVal Acc 66.4217%\tVal Loss 1.0964\n",
      "\n",
      "Epoch 2/30\n"
     ]
    },
    {
     "name": "stderr",
     "output_type": "stream",
     "text": [
      "                                                                                        \r"
     ]
    },
    {
     "name": "stdout",
     "output_type": "stream",
     "text": [
      "\tTrain Acc 65.6670%\tTrain Loss 1.1226\t Learning Rate 0.0010000\n",
      "\tVal Acc 67.3760%\tVal Loss 1.0613\n",
      "\n",
      "Epoch 3/30\n"
     ]
    },
    {
     "name": "stderr",
     "output_type": "stream",
     "text": [
      "                                                                                        \r"
     ]
    },
    {
     "name": "stdout",
     "output_type": "stream",
     "text": [
      "\tTrain Acc 66.4516%\tTrain Loss 1.0941\t Learning Rate 0.0010000\n",
      "\tVal Acc 67.8587%\tVal Loss 1.0405\n",
      "\n",
      "Epoch 4/30\n"
     ]
    },
    {
     "name": "stderr",
     "output_type": "stream",
     "text": [
      "                                                                                        \r"
     ]
    },
    {
     "name": "stdout",
     "output_type": "stream",
     "text": [
      "\tTrain Acc 66.8536%\tTrain Loss 1.0794\t Learning Rate 0.0010000\n",
      "\tVal Acc 68.2167%\tVal Loss 1.0226\n",
      "\n",
      "Epoch 5/30\n"
     ]
    },
    {
     "name": "stderr",
     "output_type": "stream",
     "text": [
      "                                                                                        \r"
     ]
    },
    {
     "name": "stdout",
     "output_type": "stream",
     "text": [
      "\tTrain Acc 69.2968%\tTrain Loss 0.9961\t Learning Rate 0.0001000\n",
      "\tVal Acc 70.7055%\tVal Loss 0.9422\n",
      "\n",
      "Epoch 6/30\n"
     ]
    },
    {
     "name": "stderr",
     "output_type": "stream",
     "text": [
      "Val:  30%|███       | 285/942 [00:04<00:12, 53.54it/s, acc=70.9551%, loss=0.9304]       "
     ]
    },
    {
     "ename": "KeyboardInterrupt",
     "evalue": "",
     "output_type": "error",
     "traceback": [
      "\u001b[0;31m---------------------------------------------------------------------------\u001b[0m",
      "\u001b[0;31mKeyboardInterrupt\u001b[0m                         Traceback (most recent call last)",
      "Cell \u001b[0;32mIn[37], line 12\u001b[0m\n\u001b[1;32m     10\u001b[0m curr_lr                 \u001b[38;5;241m=\u001b[39m \u001b[38;5;28mfloat\u001b[39m(optimizer\u001b[38;5;241m.\u001b[39mparam_groups[\u001b[38;5;241m0\u001b[39m][\u001b[38;5;124m'\u001b[39m\u001b[38;5;124mlr\u001b[39m\u001b[38;5;124m'\u001b[39m])\n\u001b[1;32m     11\u001b[0m train_loss, train_acc   \u001b[38;5;241m=\u001b[39m train(model, train_loader, optimizer, criterion)\n\u001b[0;32m---> 12\u001b[0m val_loss, val_acc       \u001b[38;5;241m=\u001b[39m \u001b[38;5;28;43meval\u001b[39;49m\u001b[43m(\u001b[49m\u001b[43mmodel\u001b[49m\u001b[43m,\u001b[49m\u001b[43m \u001b[49m\u001b[43mval_loader\u001b[49m\u001b[43m)\u001b[49m\n\u001b[1;32m     14\u001b[0m \u001b[38;5;28mprint\u001b[39m(\u001b[38;5;124m\"\u001b[39m\u001b[38;5;130;01m\\t\u001b[39;00m\u001b[38;5;124mTrain Acc \u001b[39m\u001b[38;5;132;01m{:.04f}\u001b[39;00m\u001b[38;5;124m%\u001b[39m\u001b[38;5;130;01m\\t\u001b[39;00m\u001b[38;5;124mTrain Loss \u001b[39m\u001b[38;5;132;01m{:.04f}\u001b[39;00m\u001b[38;5;130;01m\\t\u001b[39;00m\u001b[38;5;124m Learning Rate \u001b[39m\u001b[38;5;132;01m{:.07f}\u001b[39;00m\u001b[38;5;124m\"\u001b[39m\u001b[38;5;241m.\u001b[39mformat(train_acc\u001b[38;5;241m*\u001b[39m\u001b[38;5;241m100\u001b[39m, train_loss, curr_lr))\n\u001b[1;32m     15\u001b[0m \u001b[38;5;28mprint\u001b[39m(\u001b[38;5;124m\"\u001b[39m\u001b[38;5;130;01m\\t\u001b[39;00m\u001b[38;5;124mVal Acc \u001b[39m\u001b[38;5;132;01m{:.04f}\u001b[39;00m\u001b[38;5;124m%\u001b[39m\u001b[38;5;130;01m\\t\u001b[39;00m\u001b[38;5;124mVal Loss \u001b[39m\u001b[38;5;132;01m{:.04f}\u001b[39;00m\u001b[38;5;124m\"\u001b[39m\u001b[38;5;241m.\u001b[39mformat(val_acc\u001b[38;5;241m*\u001b[39m\u001b[38;5;241m100\u001b[39m, val_loss))\n",
      "Cell \u001b[0;32mIn[33], line 10\u001b[0m, in \u001b[0;36meval\u001b[0;34m(model, dataloader)\u001b[0m\n\u001b[1;32m      5\u001b[0m batch_bar   \u001b[38;5;241m=\u001b[39m tqdm(total\u001b[38;5;241m=\u001b[39m\u001b[38;5;28mlen\u001b[39m(val_loader), dynamic_ncols\u001b[38;5;241m=\u001b[39m\u001b[38;5;28;01mTrue\u001b[39;00m, position\u001b[38;5;241m=\u001b[39m\u001b[38;5;241m0\u001b[39m, leave\u001b[38;5;241m=\u001b[39m\u001b[38;5;28;01mFalse\u001b[39;00m, desc\u001b[38;5;241m=\u001b[39m\u001b[38;5;124m'\u001b[39m\u001b[38;5;124mVal\u001b[39m\u001b[38;5;124m'\u001b[39m)\n\u001b[1;32m      7\u001b[0m \u001b[38;5;28;01mfor\u001b[39;00m i, (frames, phonemes) \u001b[38;5;129;01min\u001b[39;00m \u001b[38;5;28menumerate\u001b[39m(dataloader):\n\u001b[1;32m      8\u001b[0m \n\u001b[1;32m      9\u001b[0m     \u001b[38;5;66;03m### Move data to device (ideally GPU)\u001b[39;00m\n\u001b[0;32m---> 10\u001b[0m     frames      \u001b[38;5;241m=\u001b[39m \u001b[43mframes\u001b[49m\u001b[38;5;241;43m.\u001b[39;49m\u001b[43mto\u001b[49m\u001b[43m(\u001b[49m\u001b[43mdevice\u001b[49m\u001b[43m)\u001b[49m\n\u001b[1;32m     11\u001b[0m     phonemes    \u001b[38;5;241m=\u001b[39m phonemes\u001b[38;5;241m.\u001b[39mto(device)\n\u001b[1;32m     13\u001b[0m     \u001b[38;5;66;03m# makes sure that there are no gradients computed as we are not training the model now\u001b[39;00m\n",
      "\u001b[0;31mKeyboardInterrupt\u001b[0m: "
     ]
    }
   ],
   "source": [
    "# Iterate over number of epochs to train and evaluate your model\n",
    "torch.cuda.empty_cache()\n",
    "gc.collect()\n",
    "wandb.watch(model, log=\"all\")\n",
    "best_acc = 0\n",
    "for epoch in range(config['epochs']):\n",
    "\n",
    "    print(\"\\nEpoch {}/{}\".format(epoch+1, config['epochs']))\n",
    "\n",
    "    curr_lr                 = float(optimizer.param_groups[0]['lr'])\n",
    "    train_loss, train_acc   = train(model, train_loader, optimizer, criterion)\n",
    "    val_loss, val_acc       = eval(model, val_loader)\n",
    "\n",
    "    print(\"\\tTrain Acc {:.04f}%\\tTrain Loss {:.04f}\\t Learning Rate {:.07f}\".format(train_acc*100, train_loss, curr_lr))\n",
    "    print(\"\\tVal Acc {:.04f}%\\tVal Loss {:.04f}\".format(val_acc*100, val_loss))\n",
    "\n",
    "    ## Log metrics at each epoch in your run\n",
    "    # Optionally, you can log at each batch inside train/eval functions\n",
    "    # (explore wandb documentation/wandb recitation)\n",
    "    wandb.log({'train_acc': train_acc*100, 'train_loss': train_loss,\n",
    "               'val_acc': val_acc*100, 'valid_loss': val_loss, 'lr': curr_lr})\n",
    "\n",
    "    # If using a scheduler, step the learning rate here, otherwise comment this line\n",
    "    # Depending on the scheduler in use, you may or may not need to pass in a metric into the step function, so read the docs well\n",
    "    scheduler.step(val_acc)\n",
    "\n",
    "    ## Highly Recommended: Save checkpoint in drive and/or wandb if accuracy is better than your current best\n",
    "    # Save checkpoint locally\n",
    "    if val_acc > best_acc:\n",
    "        best_acc = val_acc\n",
    "        checkpoint = {\n",
    "            'epoch': epoch + 1,\n",
    "            'model_state_dict': model.state_dict(),\n",
    "            'optimizer_state_dict': optimizer.state_dict(),\n",
    "            'scheduler_state_dict': scheduler.state_dict(),\n",
    "            'train_loss': train_loss,\n",
    "            'val_loss': val_loss,\n",
    "            'train_acc': train_acc,\n",
    "            'val_acc': val_acc\n",
    "        }\n",
    "        torch.save(checkpoint, f'best.pth')\n",
    "        wandb.save(f'best.pth')"
   ]
  },
  {
   "cell_type": "markdown",
   "metadata": {
    "id": "_kXwf5YUo_4A"
   },
   "source": [
    "# Testing and submission to Kaggle"
   ]
  },
  {
   "cell_type": "markdown",
   "metadata": {
    "id": "WI1hSFYLpJvH"
   },
   "source": [
    "Before we get to the following code, make sure to see the format of submission given in *sample_submission.csv*. Once you have done so, it is time to fill the following function to complete your inference on test data. Refer the eval function from previous cells to get an idea of how to go about completing this function."
   ]
  },
  {
   "cell_type": "code",
   "execution_count": 39,
   "metadata": {
    "execution": {
     "iopub.execute_input": "2024-12-24T02:20:10.371165Z",
     "iopub.status.busy": "2024-12-24T02:20:10.370733Z",
     "iopub.status.idle": "2024-12-24T02:20:10.378449Z",
     "shell.execute_reply": "2024-12-24T02:20:10.377340Z",
     "shell.execute_reply.started": "2024-12-24T02:20:10.371126Z"
    },
    "id": "ijLrIJFl5dSf",
    "trusted": true
   },
   "outputs": [],
   "source": [
    "def test(model, test_loader):\n",
    "    ### What you call for model to perform inference?\n",
    "    model.eval() # TODO train or eval?\n",
    "\n",
    "    ### List to store predicted phonemes of test data\n",
    "    test_predictions = []\n",
    "\n",
    "    ### Which mode do you need to avoid gradients?\n",
    "    with torch.no_grad(): # TODO\n",
    "\n",
    "        for i, mfccs in enumerate(tqdm(test_loader)):\n",
    "\n",
    "            mfccs   = mfccs.to(device)\n",
    "\n",
    "            logits  = model(mfccs)\n",
    "\n",
    "            ### Get most likely predicted phoneme with argmax\n",
    "            predicted_phonemes = torch.argmax(logits, dim=1).cpu().numpy()\n",
    "\n",
    "            ### How do you store predicted_phonemes with test_predictions? Hint, look at eval\n",
    "            # Remember the phonemes were converted to their corresponding integer indices earlier, and the results of the argmax is a list of the indices of the predicted phonemes.\n",
    "            # So how do you get and store the actual predicted phonemes\n",
    "            # TODO: Store predicted_phonemes\n",
    "            test_predictions.extend(predicted_phonemes)\n",
    "\n",
    "    return test_predictions"
   ]
  },
  {
   "cell_type": "code",
   "execution_count": 40,
   "metadata": {
    "execution": {
     "iopub.execute_input": "2024-12-24T02:21:22.050782Z",
     "iopub.status.busy": "2024-12-24T02:21:22.050471Z",
     "iopub.status.idle": "2024-12-24T02:22:10.946756Z",
     "shell.execute_reply": "2024-12-24T02:22:10.945858Z",
     "shell.execute_reply.started": "2024-12-24T02:21:22.050753Z"
    },
    "id": "wG9v6Xmxu7wp",
    "trusted": true
   },
   "outputs": [
    {
     "name": "stderr",
     "output_type": "stream",
     "text": [
      "/tmp/ipykernel_1652368/1189454175.py:1: FutureWarning: You are using `torch.load` with `weights_only=False` (the current default value), which uses the default pickle module implicitly. It is possible to construct malicious pickle data which will execute arbitrary code during unpickling (See https://github.com/pytorch/pytorch/blob/main/SECURITY.md#untrusted-models for more details). In a future release, the default value for `weights_only` will be flipped to `True`. This limits the functions that could be executed during unpickling. Arbitrary objects will no longer be allowed to be loaded via this mode unless they are explicitly allowlisted by the user via `torch.serialization.add_safe_globals`. We recommend you start setting `weights_only=True` for any use case where you don't have full control of the loaded file. Please open an issue on GitHub for any issues related to this experimental feature.\n",
      "  checkpoint = torch.load('best.pth')\n",
      "100%|██████████| 945/945 [00:11<00:00, 79.13it/s]                                \n"
     ]
    }
   ],
   "source": [
    "checkpoint = torch.load('best.pth')\n",
    "model.load_state_dict(checkpoint['model_state_dict'])\n",
    "predictions = test(model, test_loader)"
   ]
  },
  {
   "cell_type": "code",
   "execution_count": 43,
   "metadata": {
    "execution": {
     "iopub.execute_input": "2024-12-24T02:22:12.849873Z",
     "iopub.status.busy": "2024-12-24T02:22:12.849571Z",
     "iopub.status.idle": "2024-12-24T02:22:14.184114Z",
     "shell.execute_reply": "2024-12-24T02:22:14.183417Z",
     "shell.execute_reply.started": "2024-12-24T02:22:12.849849Z"
    },
    "id": "_I6AVEY45dSg",
    "trusted": true
   },
   "outputs": [],
   "source": [
    "### Create CSV file with predictions\n",
    "with open(\"./submission.csv\", \"w\") as f:\n",
    "    f.write(\"id,label\\n\")\n",
    "    for i in range(len(predictions)):\n",
    "        f.write(\"{},{}\\n\".format(i, PHONEMES[predictions[i]]))"
   ]
  },
  {
   "cell_type": "code",
   "execution_count": 56,
   "metadata": {
    "execution": {
     "iopub.execute_input": "2024-12-24T02:22:17.280785Z",
     "iopub.status.busy": "2024-12-24T02:22:17.280510Z",
     "iopub.status.idle": "2024-12-24T02:22:18.714924Z",
     "shell.execute_reply": "2024-12-24T02:22:18.714234Z",
     "shell.execute_reply.started": "2024-12-24T02:22:17.280761Z"
    },
    "id": "6Wf-P25TXU0N",
    "trusted": true
   },
   "outputs": [
    {
     "data": {
      "text/html": [],
      "text/plain": [
       "<IPython.core.display.HTML object>"
      ]
     },
     "metadata": {},
     "output_type": "display_data"
    },
    {
     "data": {
      "text/html": [
       " View run <strong style=\"color:#cdcd00\">11785</strong> at: <a href='https://wandb.ai/avidjoyce23-peking-university/hw1p2/runs/vpwq1axz' target=\"_blank\">https://wandb.ai/avidjoyce23-peking-university/hw1p2/runs/vpwq1axz</a><br> View project at: <a href='https://wandb.ai/avidjoyce23-peking-university/hw1p2' target=\"_blank\">https://wandb.ai/avidjoyce23-peking-university/hw1p2</a><br>Synced 5 W&B file(s), 0 media file(s), 0 artifact file(s) and 0 other file(s)"
      ],
      "text/plain": [
       "<IPython.core.display.HTML object>"
      ]
     },
     "metadata": {},
     "output_type": "display_data"
    },
    {
     "data": {
      "text/html": [
       "Find logs at: <code>./wandb/run-20250122_234807-vpwq1axz/logs</code>"
      ],
      "text/plain": [
       "<IPython.core.display.HTML object>"
      ]
     },
     "metadata": {},
     "output_type": "display_data"
    }
   ],
   "source": [
    "### Finish your wandb run\n",
    "run.finish()"
   ]
  },
  {
   "cell_type": "code",
   "execution_count": 47,
   "metadata": {
    "execution": {
     "execution_failed": "2024-12-24T01:53:07.886Z"
    },
    "id": "LjcammuCxMKN",
    "trusted": true
   },
   "outputs": [
    {
     "name": "stdout",
     "output_type": "stream",
     "text": [
      "/bin/bash: line 1: kaggle: command not found\n"
     ]
    }
   ],
   "source": [
    "### Submit to kaggle competition using kaggle API (Uncomment below to use)\n",
    "!kaggle competitions submit -c 11785-spring-25-hw-1-p-2 -f /content/submission.csv -m \"Test Submission\"\n",
    "\n",
    "### However, its always safer to download the csv file and then upload to kaggle"
   ]
  }
 ],
 "metadata": {
  "accelerator": "GPU",
  "colab": {
   "gpuType": "T4",
   "machine_shape": "hm",
   "provenance": []
  },
  "kaggle": {
   "accelerator": "nvidiaTeslaT4",
   "dataSources": [
    {
     "databundleVersionId": 10829548,
     "sourceId": 90913,
     "sourceType": "competition"
    }
   ],
   "dockerImageVersionId": 30840,
   "isGpuEnabled": true,
   "isInternetEnabled": true,
   "language": "python",
   "sourceType": "notebook"
  },
  "kernelspec": {
   "display_name": "base",
   "language": "python",
   "name": "python3"
  },
  "language_info": {
   "codemirror_mode": {
    "name": "ipython",
    "version": 3
   },
   "file_extension": ".py",
   "mimetype": "text/x-python",
   "name": "python",
   "nbconvert_exporter": "python",
   "pygments_lexer": "ipython3",
   "version": "3.10.14"
  }
 },
 "nbformat": 4,
 "nbformat_minor": 4
}
